{
 "cells": [
  {
   "cell_type": "code",
   "execution_count": 1,
   "metadata": {},
   "outputs": [],
   "source": [
    "# import statements\n",
    "import numpy as np\n",
    "import random\n",
    "from Monte_Carlo_without_es import Monte_carlo_without_es\n",
    "from Sarsa import Sarsa\n",
    "from Q_learning import Q_learning"
   ]
  },
  {
   "cell_type": "code",
   "execution_count": 2,
   "metadata": {},
   "outputs": [],
   "source": [
    "# four by four obstacle\n",
    "four_by_four_obs = [(1,1), (1,3), (2,3), (3,0)]"
   ]
  },
  {
   "attachments": {},
   "cell_type": "markdown",
   "metadata": {},
   "source": [
    "## Monte Carlo without Exploring Start"
   ]
  },
  {
   "attachments": {},
   "cell_type": "markdown",
   "metadata": {},
   "source": [
    "### Code\n",
    "\n",
    "Usage: Create a Monte_carlo_without_es object, and call the generate_path() method."
   ]
  },
  {
   "attachments": {},
   "cell_type": "markdown",
   "metadata": {},
   "source": [
    "### 4 x 4 Grid"
   ]
  },
  {
   "cell_type": "code",
   "execution_count": 3,
   "metadata": {},
   "outputs": [
    {
     "name": "stdout",
     "output_type": "stream",
     "text": [
      "==============\n",
      "|            |\n",
      "|    X     X |\n",
      "|          X |\n",
      "| X        G |\n",
      "==============\n",
      "==============\n",
      "| O          |\n",
      "| O  X     X |\n",
      "| O  O  O  X |\n",
      "| X     O  G |\n",
      "==============\n"
     ]
    }
   ],
   "source": [
    "mont1 = Monte_carlo_without_es(4, 4, obstacle_pos=four_by_four_obs)\n",
    "print(mont1.get_map())\n",
    "mont1.generate_path()\n",
    "print(mont1.get_path_map())"
   ]
  },
  {
   "attachments": {},
   "cell_type": "markdown",
   "metadata": {},
   "source": [
    "### 10 x 10 Grid"
   ]
  },
  {
   "cell_type": "code",
   "execution_count": 5,
   "metadata": {},
   "outputs": [
    {
     "name": "stdout",
     "output_type": "stream",
     "text": [
      "================================\n",
      "|       X        X             |\n",
      "|       X                      |\n",
      "|    X  X              X     X |\n",
      "|    X                         |\n",
      "|             X        X  X  X |\n",
      "|                X           X |\n",
      "| X  X              X          |\n",
      "| X        X                   |\n",
      "| X              X     X  X    |\n",
      "|       X                 X  G |\n",
      "================================\n"
     ]
    },
    {
     "ename": "KeyboardInterrupt",
     "evalue": "",
     "output_type": "error",
     "traceback": [
      "\u001b[0;31m---------------------------------------------------------------------------\u001b[0m",
      "\u001b[0;31mKeyboardInterrupt\u001b[0m                         Traceback (most recent call last)",
      "Cell \u001b[0;32mIn[5], line 3\u001b[0m\n\u001b[1;32m      1\u001b[0m mont2 \u001b[39m=\u001b[39m Monte_carlo_without_es(\u001b[39m10\u001b[39m, \u001b[39m10\u001b[39m)\n\u001b[1;32m      2\u001b[0m \u001b[39mprint\u001b[39m(mont2\u001b[39m.\u001b[39mprint_map())\n\u001b[0;32m----> 3\u001b[0m \u001b[39mprint\u001b[39m(mont2\u001b[39m.\u001b[39;49mgenerate_path())\n",
      "File \u001b[0;32m~/RL-path-planning/Monte_Carlo_without_es.py:152\u001b[0m, in \u001b[0;36mMonte_carlo_without_es.generate_path\u001b[0;34m(self)\u001b[0m\n\u001b[1;32m    150\u001b[0m ep \u001b[39m=\u001b[39m \u001b[39mself\u001b[39m\u001b[39m.\u001b[39mgenerate_episode()\n\u001b[1;32m    151\u001b[0m \u001b[39mwhile\u001b[39;00m \u001b[39mTrue\u001b[39;00m:\n\u001b[0;32m--> 152\u001b[0m     \u001b[39mself\u001b[39;49m\u001b[39m.\u001b[39;49mupdate_path()\n\u001b[1;32m    153\u001b[0m     new_ep \u001b[39m=\u001b[39m \u001b[39mself\u001b[39m\u001b[39m.\u001b[39mgenerate_episode()\n\u001b[1;32m    154\u001b[0m     \u001b[39mif\u001b[39;00m np\u001b[39m.\u001b[39marray_equal(ep, new_ep) \u001b[39mand\u001b[39;00m ep[\u001b[39m-\u001b[39m\u001b[39m1\u001b[39m][\u001b[39m3\u001b[39m] \u001b[39m==\u001b[39m \u001b[39m1\u001b[39m:\n",
      "File \u001b[0;32m~/RL-path-planning/Monte_Carlo_without_es.py:114\u001b[0m, in \u001b[0;36mMonte_carlo_without_es.update_path\u001b[0;34m(self)\u001b[0m\n\u001b[1;32m    113\u001b[0m \u001b[39mdef\u001b[39;00m \u001b[39mupdate_path\u001b[39m(\u001b[39mself\u001b[39m):\n\u001b[0;32m--> 114\u001b[0m     ep \u001b[39m=\u001b[39m \u001b[39mself\u001b[39;49m\u001b[39m.\u001b[39;49mgenerate_episode()\n\u001b[1;32m    115\u001b[0m     g \u001b[39m=\u001b[39m \u001b[39m0\u001b[39m\n\u001b[1;32m    116\u001b[0m     first_visit \u001b[39m=\u001b[39m np\u001b[39m.\u001b[39mzeros((\u001b[39mself\u001b[39m\u001b[39m.\u001b[39mrow, \u001b[39mself\u001b[39m\u001b[39m.\u001b[39mcol, \u001b[39mself\u001b[39m\u001b[39m.\u001b[39mnum_actions))\n",
      "File \u001b[0;32m~/RL-path-planning/Monte_Carlo_without_es.py:87\u001b[0m, in \u001b[0;36mMonte_carlo_without_es.generate_episode\u001b[0;34m(self)\u001b[0m\n\u001b[1;32m     85\u001b[0m ep \u001b[39m=\u001b[39m np\u001b[39m.\u001b[39mempty((\u001b[39m0\u001b[39m,\u001b[39m4\u001b[39m), \u001b[39mint\u001b[39m)\n\u001b[1;32m     86\u001b[0m \u001b[39mwhile\u001b[39;00m \u001b[39mnot\u001b[39;00m (\u001b[39mself\u001b[39m\u001b[39m.\u001b[39mreward[i,j] \u001b[39m==\u001b[39m \u001b[39m-\u001b[39m\u001b[39m1\u001b[39m \u001b[39mor\u001b[39;00m \u001b[39mself\u001b[39m\u001b[39m.\u001b[39mreward[i,j] \u001b[39m==\u001b[39m \u001b[39m1\u001b[39m):\n\u001b[0;32m---> 87\u001b[0m     pol \u001b[39m=\u001b[39m \u001b[39mself\u001b[39;49m\u001b[39m.\u001b[39;49mfind_policy_to_use(i, j)\n\u001b[1;32m     88\u001b[0m     next_i \u001b[39m=\u001b[39m i\n\u001b[1;32m     89\u001b[0m     next_j \u001b[39m=\u001b[39m j\n",
      "File \u001b[0;32m~/RL-path-planning/Monte_Carlo_without_es.py:108\u001b[0m, in \u001b[0;36mMonte_carlo_without_es.find_policy_to_use\u001b[0;34m(self, i, j)\u001b[0m\n\u001b[1;32m    106\u001b[0m rand \u001b[39m=\u001b[39m random\u001b[39m.\u001b[39mrandom()\n\u001b[1;32m    107\u001b[0m \u001b[39mfor\u001b[39;00m k \u001b[39min\u001b[39;00m \u001b[39mrange\u001b[39m(\u001b[39mlen\u001b[39m(pol)):\n\u001b[0;32m--> 108\u001b[0m     \u001b[39mif\u001b[39;00m rand \u001b[39m<\u001b[39m\u001b[39m=\u001b[39m pol[k]:\n\u001b[1;32m    109\u001b[0m         \u001b[39mreturn\u001b[39;00m k\n\u001b[1;32m    110\u001b[0m     rand \u001b[39m-\u001b[39m\u001b[39m=\u001b[39m pol[k]\n",
      "\u001b[0;31mKeyboardInterrupt\u001b[0m: "
     ]
    }
   ],
   "source": [
    "mont2 = Monte_carlo_without_es(10, 10)\n",
    "print(mont2.get_map())\n",
    "mont2.generate_path()\n",
    "print(mont2.get_path_map())"
   ]
  },
  {
   "attachments": {},
   "cell_type": "markdown",
   "metadata": {},
   "source": [
    "## Sarsa"
   ]
  },
  {
   "attachments": {},
   "cell_type": "markdown",
   "metadata": {},
   "source": [
    "### Code\n",
    "\n",
    "Usage: Create a Sarsa object, and call the generate_path() method."
   ]
  },
  {
   "attachments": {},
   "cell_type": "markdown",
   "metadata": {},
   "source": [
    "### 4 x 4 Grid"
   ]
  },
  {
   "cell_type": "code",
   "execution_count": 4,
   "metadata": {},
   "outputs": [
    {
     "name": "stdout",
     "output_type": "stream",
     "text": [
      "==============\n",
      "|            |\n",
      "|    X     X |\n",
      "|          X |\n",
      "| X        G |\n",
      "==============\n",
      "==============\n",
      "| O  O  O    |\n",
      "|    X  O  X |\n",
      "|       O  X |\n",
      "| X     O  G |\n",
      "==============\n"
     ]
    }
   ],
   "source": [
    "sarsa1 = Sarsa(4, 4, obstacle_pos=four_by_four_obs)\n",
    "print(sarsa1.get_map())\n",
    "sarsa1.generate_path()\n",
    "print(sarsa1.get_path_map())"
   ]
  },
  {
   "attachments": {},
   "cell_type": "markdown",
   "metadata": {},
   "source": [
    "### 10 x 10 Grid"
   ]
  },
  {
   "cell_type": "code",
   "execution_count": 7,
   "metadata": {},
   "outputs": [
    {
     "name": "stdout",
     "output_type": "stream",
     "text": [
      "================================\n",
      "|                   X  X       |\n",
      "|       X     X        X       |\n",
      "|                            X |\n",
      "|             X     X  X       |\n",
      "| X  X     X                 X |\n",
      "| X        X              X    |\n",
      "| X        X              X  X |\n",
      "|                      X  X    |\n",
      "| X        X                   |\n",
      "|    X                       G |\n",
      "================================\n"
     ]
    },
    {
     "ename": "KeyboardInterrupt",
     "evalue": "",
     "output_type": "error",
     "traceback": [
      "\u001b[0;31m---------------------------------------------------------------------------\u001b[0m",
      "\u001b[0;31mKeyboardInterrupt\u001b[0m                         Traceback (most recent call last)",
      "Cell \u001b[0;32mIn[7], line 3\u001b[0m\n\u001b[1;32m      1\u001b[0m sarsa2 \u001b[39m=\u001b[39m Sarsa(\u001b[39m10\u001b[39m, \u001b[39m10\u001b[39m)\n\u001b[1;32m      2\u001b[0m \u001b[39mprint\u001b[39m(sarsa2\u001b[39m.\u001b[39mprint_map())\n\u001b[0;32m----> 3\u001b[0m \u001b[39mprint\u001b[39m(sarsa2\u001b[39m.\u001b[39;49mgenerate_path())\n",
      "File \u001b[0;32m~/RL-path-planning/Sarsa.py:145\u001b[0m, in \u001b[0;36mSarsa.generate_path\u001b[0;34m(self)\u001b[0m\n\u001b[1;32m    143\u001b[0m ep \u001b[39m=\u001b[39m \u001b[39mself\u001b[39m\u001b[39m.\u001b[39mgenerate_episode()\n\u001b[1;32m    144\u001b[0m \u001b[39mwhile\u001b[39;00m \u001b[39mTrue\u001b[39;00m:\n\u001b[0;32m--> 145\u001b[0m     \u001b[39mself\u001b[39;49m\u001b[39m.\u001b[39;49mupdate_path()\n\u001b[1;32m    146\u001b[0m     new_ep \u001b[39m=\u001b[39m \u001b[39mself\u001b[39m\u001b[39m.\u001b[39mgenerate_episode()\n\u001b[1;32m    147\u001b[0m     \u001b[39mif\u001b[39;00m np\u001b[39m.\u001b[39marray_equal(ep, new_ep) \u001b[39mand\u001b[39;00m ep[\u001b[39m-\u001b[39m\u001b[39m1\u001b[39m][\u001b[39m3\u001b[39m] \u001b[39m==\u001b[39m \u001b[39m1\u001b[39m:\n",
      "File \u001b[0;32m~/RL-path-planning/Sarsa.py:115\u001b[0m, in \u001b[0;36mSarsa.update_path\u001b[0;34m(self)\u001b[0m\n\u001b[1;32m    114\u001b[0m \u001b[39mdef\u001b[39;00m \u001b[39mupdate_path\u001b[39m(\u001b[39mself\u001b[39m):\n\u001b[0;32m--> 115\u001b[0m     ep \u001b[39m=\u001b[39m \u001b[39mself\u001b[39;49m\u001b[39m.\u001b[39;49mgenerate_episode()\n\u001b[1;32m    116\u001b[0m     \u001b[39mfor\u001b[39;00m i \u001b[39min\u001b[39;00m \u001b[39mrange\u001b[39m(\u001b[39mlen\u001b[39m(ep)):\n\u001b[1;32m    117\u001b[0m         S \u001b[39m=\u001b[39m ep[i, \u001b[39m0\u001b[39m:\u001b[39m2\u001b[39m]\n",
      "File \u001b[0;32m~/RL-path-planning/Sarsa.py:86\u001b[0m, in \u001b[0;36mSarsa.generate_episode\u001b[0;34m(self)\u001b[0m\n\u001b[1;32m     84\u001b[0m ep \u001b[39m=\u001b[39m np\u001b[39m.\u001b[39mempty((\u001b[39m0\u001b[39m,\u001b[39m7\u001b[39m), \u001b[39mint\u001b[39m)\n\u001b[1;32m     85\u001b[0m \u001b[39mwhile\u001b[39;00m \u001b[39mnot\u001b[39;00m (\u001b[39mself\u001b[39m\u001b[39m.\u001b[39mreward[i,j] \u001b[39m==\u001b[39m \u001b[39m-\u001b[39m\u001b[39m1\u001b[39m \u001b[39mor\u001b[39;00m \u001b[39mself\u001b[39m\u001b[39m.\u001b[39mreward[i,j] \u001b[39m==\u001b[39m \u001b[39m1\u001b[39m):\n\u001b[0;32m---> 86\u001b[0m     pol \u001b[39m=\u001b[39m \u001b[39mself\u001b[39;49m\u001b[39m.\u001b[39;49mfind_policy_to_use(i, j)\n\u001b[1;32m     87\u001b[0m     next_i \u001b[39m=\u001b[39m i\n\u001b[1;32m     88\u001b[0m     next_j \u001b[39m=\u001b[39m j\n",
      "File \u001b[0;32m~/RL-path-planning/Sarsa.py:108\u001b[0m, in \u001b[0;36mSarsa.find_policy_to_use\u001b[0;34m(self, i, j)\u001b[0m\n\u001b[1;32m    106\u001b[0m pol \u001b[39m=\u001b[39m \u001b[39mself\u001b[39m\u001b[39m.\u001b[39mpolicy[i, j]\n\u001b[1;32m    107\u001b[0m rand \u001b[39m=\u001b[39m random\u001b[39m.\u001b[39mrandom()\n\u001b[0;32m--> 108\u001b[0m \u001b[39mfor\u001b[39;00m k \u001b[39min\u001b[39;00m \u001b[39mrange\u001b[39m(\u001b[39mlen\u001b[39m(pol)):\n\u001b[1;32m    109\u001b[0m     \u001b[39mif\u001b[39;00m rand \u001b[39m<\u001b[39m\u001b[39m=\u001b[39m pol[k]:\n\u001b[1;32m    110\u001b[0m         \u001b[39mreturn\u001b[39;00m k\n",
      "\u001b[0;31mKeyboardInterrupt\u001b[0m: "
     ]
    }
   ],
   "source": [
    "sarsa2 = Sarsa(10, 10)\n",
    "print(sarsa2.get_map())\n",
    "sarsa2.generate_path()\n",
    "print(sarsa2.get_path_map())\n"
   ]
  },
  {
   "attachments": {},
   "cell_type": "markdown",
   "metadata": {},
   "source": [
    "## Q-Learning"
   ]
  },
  {
   "attachments": {},
   "cell_type": "markdown",
   "metadata": {},
   "source": [
    "### Code\n",
    "\n",
    "Usage: Create a Q_learning object, and call the generate_path() method."
   ]
  },
  {
   "attachments": {},
   "cell_type": "markdown",
   "metadata": {},
   "source": [
    "### 4 x 4 Grid"
   ]
  },
  {
   "cell_type": "code",
   "execution_count": 5,
   "metadata": {},
   "outputs": [
    {
     "name": "stdout",
     "output_type": "stream",
     "text": [
      "==============\n",
      "|            |\n",
      "|    X     X |\n",
      "|          X |\n",
      "| X        G |\n",
      "==============\n",
      "==============\n",
      "| O  O  O    |\n",
      "|    X  O  X |\n",
      "|       O  X |\n",
      "| X     O  G |\n",
      "==============\n"
     ]
    }
   ],
   "source": [
    "q_learn1 = Q_learning(4, 4, obstacle_pos=four_by_four_obs)\n",
    "print(q_learn1.get_map())\n",
    "q_learn1.generate_path()\n",
    "print(q_learn1.get_path_map())"
   ]
  },
  {
   "attachments": {},
   "cell_type": "markdown",
   "metadata": {},
   "source": [
    "### 10 x 10 Grid"
   ]
  },
  {
   "cell_type": "code",
   "execution_count": 9,
   "metadata": {},
   "outputs": [
    {
     "name": "stdout",
     "output_type": "stream",
     "text": [
      "================================\n",
      "|                   X  X       |\n",
      "|       X     X        X       |\n",
      "|                            X |\n",
      "|             X     X  X       |\n",
      "| X  X     X                 X |\n",
      "| X        X              X    |\n",
      "| X        X              X  X |\n",
      "|                      X  X    |\n",
      "| X        X                   |\n",
      "|    X                       G |\n",
      "================================\n"
     ]
    },
    {
     "ename": "KeyboardInterrupt",
     "evalue": "",
     "output_type": "error",
     "traceback": [
      "\u001b[0;31m---------------------------------------------------------------------------\u001b[0m",
      "\u001b[0;31mKeyboardInterrupt\u001b[0m                         Traceback (most recent call last)",
      "Cell \u001b[0;32mIn[9], line 3\u001b[0m\n\u001b[1;32m      1\u001b[0m q_learn2 \u001b[39m=\u001b[39m Q_learning(\u001b[39m10\u001b[39m, \u001b[39m10\u001b[39m)\n\u001b[1;32m      2\u001b[0m \u001b[39mprint\u001b[39m(q_learn2\u001b[39m.\u001b[39mprint_map())\n\u001b[0;32m----> 3\u001b[0m \u001b[39mprint\u001b[39m(q_learn2\u001b[39m.\u001b[39;49mgenerate_path()) \n",
      "File \u001b[0;32m~/RL-path-planning/Q_learning.py:145\u001b[0m, in \u001b[0;36mQ_learning.generate_path\u001b[0;34m(self)\u001b[0m\n\u001b[1;32m    143\u001b[0m ep \u001b[39m=\u001b[39m \u001b[39mself\u001b[39m\u001b[39m.\u001b[39mgenerate_episode()\n\u001b[1;32m    144\u001b[0m \u001b[39mwhile\u001b[39;00m \u001b[39mTrue\u001b[39;00m:\n\u001b[0;32m--> 145\u001b[0m     \u001b[39mself\u001b[39;49m\u001b[39m.\u001b[39;49mupdate_path()\n\u001b[1;32m    146\u001b[0m     new_ep \u001b[39m=\u001b[39m \u001b[39mself\u001b[39m\u001b[39m.\u001b[39mgenerate_episode()\n\u001b[1;32m    147\u001b[0m     \u001b[39mif\u001b[39;00m np\u001b[39m.\u001b[39marray_equal(ep, new_ep) \u001b[39mand\u001b[39;00m ep[\u001b[39m-\u001b[39m\u001b[39m1\u001b[39m][\u001b[39m3\u001b[39m] \u001b[39m==\u001b[39m \u001b[39m1\u001b[39m:\n",
      "File \u001b[0;32m~/RL-path-planning/Q_learning.py:115\u001b[0m, in \u001b[0;36mQ_learning.update_path\u001b[0;34m(self)\u001b[0m\n\u001b[1;32m    114\u001b[0m \u001b[39mdef\u001b[39;00m \u001b[39mupdate_path\u001b[39m(\u001b[39mself\u001b[39m):\n\u001b[0;32m--> 115\u001b[0m     ep \u001b[39m=\u001b[39m \u001b[39mself\u001b[39;49m\u001b[39m.\u001b[39;49mgenerate_episode()\n\u001b[1;32m    116\u001b[0m     \u001b[39mfor\u001b[39;00m i \u001b[39min\u001b[39;00m \u001b[39mrange\u001b[39m(\u001b[39mlen\u001b[39m(ep)):\n\u001b[1;32m    117\u001b[0m         S \u001b[39m=\u001b[39m ep[i, \u001b[39m0\u001b[39m:\u001b[39m2\u001b[39m]\n",
      "File \u001b[0;32m~/RL-path-planning/Q_learning.py:98\u001b[0m, in \u001b[0;36mQ_learning.generate_episode\u001b[0;34m(self)\u001b[0m\n\u001b[1;32m     96\u001b[0m     next_j \u001b[39m=\u001b[39m \u001b[39mmax\u001b[39m(j\u001b[39m-\u001b[39m\u001b[39m1\u001b[39m, \u001b[39m0\u001b[39m)\n\u001b[1;32m     97\u001b[0m next_pol \u001b[39m=\u001b[39m \u001b[39mself\u001b[39m\u001b[39m.\u001b[39mfind_policy_to_use(next_i, next_j)\n\u001b[0;32m---> 98\u001b[0m ep \u001b[39m=\u001b[39m np\u001b[39m.\u001b[39mappend(ep, np\u001b[39m.\u001b[39;49marray([[i, j, pol, \u001b[39mself\u001b[39;49m\u001b[39m.\u001b[39;49mreward[next_i, next_j], \\\n\u001b[1;32m     99\u001b[0m                               next_i, next_j, next_pol]], \u001b[39mint\u001b[39;49m), axis\u001b[39m=\u001b[39m\u001b[39m0\u001b[39m)\n\u001b[1;32m    100\u001b[0m i \u001b[39m=\u001b[39m next_i\n\u001b[1;32m    101\u001b[0m j \u001b[39m=\u001b[39m next_j\n",
      "\u001b[0;31mKeyboardInterrupt\u001b[0m: "
     ]
    }
   ],
   "source": [
    "q_learn2 = Q_learning(10, 10)\n",
    "print(q_learn2.get_map())\n",
    "q_learn2.generate_path()\n",
    "print(q_learn2.get_path_map())"
   ]
  }
 ],
 "metadata": {
  "kernelspec": {
   "display_name": "Python 3",
   "language": "python",
   "name": "python3"
  },
  "language_info": {
   "codemirror_mode": {
    "name": "ipython",
    "version": 3
   },
   "file_extension": ".py",
   "mimetype": "text/x-python",
   "name": "python",
   "nbconvert_exporter": "python",
   "pygments_lexer": "ipython3",
   "version": "3.8.10"
  },
  "orig_nbformat": 4,
  "vscode": {
   "interpreter": {
    "hash": "31f2aee4e71d21fbe5cf8b01ff0e069b9275f58929596ceb00d14d90e3e16cd6"
   }
  }
 },
 "nbformat": 4,
 "nbformat_minor": 2
}
