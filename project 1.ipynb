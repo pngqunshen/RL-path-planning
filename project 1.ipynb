{
 "cells": [
  {
   "cell_type": "code",
   "execution_count": 1,
   "metadata": {},
   "outputs": [],
   "source": [
    "# import statements\n",
    "import numpy as np\n",
    "import random\n",
    "from Monte_Carlo_without_es import Monte_carlo_without_es\n",
    "from Sarsa import Sarsa\n",
    "from Q_learning import Q_learning"
   ]
  },
  {
   "cell_type": "code",
   "execution_count": 2,
   "metadata": {},
   "outputs": [],
   "source": [
    "# four by four obstacle\n",
    "four_by_four_obs = [(1,1), (1,3), (2,3), (3,0)]"
   ]
  },
  {
   "attachments": {},
   "cell_type": "markdown",
   "metadata": {},
   "source": [
    "## Monte Carlo without Exploring Start"
   ]
  },
  {
   "attachments": {},
   "cell_type": "markdown",
   "metadata": {},
   "source": [
    "### Code\n",
    "\n",
    "Usage: Create a Monte_carlo_without_es object, and call the generate_path() method."
   ]
  },
  {
   "attachments": {},
   "cell_type": "markdown",
   "metadata": {},
   "source": [
    "### 4 x 4 Grid"
   ]
  },
  {
   "cell_type": "code",
   "execution_count": 3,
   "metadata": {},
   "outputs": [
    {
     "name": "stdout",
     "output_type": "stream",
     "text": [
      "==============\n",
      "|            |\n",
      "|    X     X |\n",
      "|          X |\n",
      "| X        G |\n",
      "==============\n",
      "==============\n",
      "| O  O  O    |\n",
      "|    X  O  X |\n",
      "|       O  X |\n",
      "| X     O  G |\n",
      "==============\n"
     ]
    }
   ],
   "source": [
    "mont1 = Monte_carlo_without_es(4, 4, obstacle_pos=four_by_four_obs)\n",
    "print(mont1.get_map())\n",
    "print(mont1.generate_path(1000))"
   ]
  },
  {
   "attachments": {},
   "cell_type": "markdown",
   "metadata": {},
   "source": [
    "### 10 x 10 Grid"
   ]
  },
  {
   "cell_type": "code",
   "execution_count": 4,
   "metadata": {},
   "outputs": [
    {
     "name": "stdout",
     "output_type": "stream",
     "text": [
      "================================\n",
      "|    X     X     X        X  X |\n",
      "|                      X  X    |\n",
      "| X                 X          |\n",
      "|             X           X    |\n",
      "|                      X       |\n",
      "|                X             |\n",
      "|       X        X     X       |\n",
      "|       X     X           X    |\n",
      "| X        X           X  X  X |\n",
      "|       X     X              G |\n",
      "================================\n",
      "================================\n",
      "| O  X     X     X        X  X |\n",
      "| O  O  O              X  X    |\n",
      "| X     O           X          |\n",
      "|       O     X           X    |\n",
      "|    O  O              X       |\n",
      "|                X             |\n",
      "|       X        X     X       |\n",
      "|       X     X           X    |\n",
      "| X        X           X  X  X |\n",
      "|       X     X              G |\n",
      "================================\n"
     ]
    }
   ],
   "source": [
    "mont2 = Monte_carlo_without_es(10, 10, epsilon=0.3)\n",
    "print(mont2.get_map())\n",
    "print(mont2.generate_path(10000))"
   ]
  },
  {
   "attachments": {},
   "cell_type": "markdown",
   "metadata": {},
   "source": [
    "## Sarsa"
   ]
  },
  {
   "attachments": {},
   "cell_type": "markdown",
   "metadata": {},
   "source": [
    "### Code\n",
    "\n",
    "Usage: Create a Sarsa object, and call the generate_path() method."
   ]
  },
  {
   "attachments": {},
   "cell_type": "markdown",
   "metadata": {},
   "source": [
    "### 4 x 4 Grid"
   ]
  },
  {
   "cell_type": "code",
   "execution_count": 5,
   "metadata": {},
   "outputs": [
    {
     "name": "stdout",
     "output_type": "stream",
     "text": [
      "==============\n",
      "|            |\n",
      "|    X     X |\n",
      "|          X |\n",
      "| X        G |\n",
      "==============\n",
      "==============\n",
      "| O          |\n",
      "| O  X     X |\n",
      "| O  O     X |\n",
      "| X  O  O  G |\n",
      "==============\n"
     ]
    }
   ],
   "source": [
    "sarsa1 = Sarsa(4, 4, obstacle_pos=four_by_four_obs)\n",
    "print(sarsa1.get_map())\n",
    "print(sarsa1.generate_path(10000))"
   ]
  },
  {
   "attachments": {},
   "cell_type": "markdown",
   "metadata": {},
   "source": [
    "### 10 x 10 Grid"
   ]
  },
  {
   "cell_type": "code",
   "execution_count": 6,
   "metadata": {},
   "outputs": [
    {
     "name": "stdout",
     "output_type": "stream",
     "text": [
      "================================\n",
      "|          X  X     X  X  X    |\n",
      "|       X                      |\n",
      "|       X                      |\n",
      "|                   X          |\n",
      "|                              |\n",
      "|    X                 X  X  X |\n",
      "|       X        X             |\n",
      "|             X  X        X    |\n",
      "|       X  X     X  X     X  X |\n",
      "|                X  X        G |\n",
      "================================\n",
      "================================\n",
      "| O        X  X     X  X  X    |\n",
      "| O     X                      |\n",
      "| O     X                      |\n",
      "| O                 X          |\n",
      "|                              |\n",
      "|    X                 X  X  X |\n",
      "|       X        X             |\n",
      "|             X  X        X    |\n",
      "|       X  X     X  X     X  X |\n",
      "|                X  X        G |\n",
      "================================\n"
     ]
    }
   ],
   "source": [
    "sarsa2 = Sarsa(10, 10, epsilon=0.3)\n",
    "print(sarsa2.get_map())\n",
    "print(sarsa2.generate_path(10000))"
   ]
  },
  {
   "attachments": {},
   "cell_type": "markdown",
   "metadata": {},
   "source": [
    "## Q-Learning"
   ]
  },
  {
   "attachments": {},
   "cell_type": "markdown",
   "metadata": {},
   "source": [
    "### Code\n",
    "\n",
    "Usage: Create a Q_learning object, and call the generate_path() method."
   ]
  },
  {
   "attachments": {},
   "cell_type": "markdown",
   "metadata": {},
   "source": [
    "### 4 x 4 Grid"
   ]
  },
  {
   "cell_type": "code",
   "execution_count": 7,
   "metadata": {},
   "outputs": [
    {
     "name": "stdout",
     "output_type": "stream",
     "text": [
      "==============\n",
      "|            |\n",
      "|    X     X |\n",
      "|          X |\n",
      "| X        G |\n",
      "==============\n",
      "==============\n",
      "| O  O  O    |\n",
      "|    X  O  X |\n",
      "|       O  X |\n",
      "| X     O  G |\n",
      "==============\n"
     ]
    }
   ],
   "source": [
    "q_learn1 = Q_learning(4, 4, obstacle_pos=four_by_four_obs)\n",
    "print(q_learn1.get_map())\n",
    "print(q_learn1.generate_path(10000))"
   ]
  },
  {
   "attachments": {},
   "cell_type": "markdown",
   "metadata": {},
   "source": [
    "### 10 x 10 Grid"
   ]
  },
  {
   "cell_type": "code",
   "execution_count": 8,
   "metadata": {},
   "outputs": [
    {
     "name": "stdout",
     "output_type": "stream",
     "text": [
      "================================\n",
      "|          X  X     X  X  X    |\n",
      "|       X                      |\n",
      "|       X                      |\n",
      "|                   X          |\n",
      "|                              |\n",
      "|    X                 X  X  X |\n",
      "|       X        X             |\n",
      "|             X  X        X    |\n",
      "|       X  X     X  X     X  X |\n",
      "|                X  X        G |\n",
      "================================\n",
      "================================\n",
      "| O  O  O  X  X     X  X  X    |\n",
      "|       X                      |\n",
      "|       X                      |\n",
      "|                   X          |\n",
      "|                              |\n",
      "|    X                 X  X  X |\n",
      "|       X        X             |\n",
      "|             X  X        X    |\n",
      "|       X  X     X  X     X  X |\n",
      "|                X  X        G |\n",
      "================================\n"
     ]
    }
   ],
   "source": [
    "q_learn2 = Q_learning(10, 10)\n",
    "print(q_learn2.get_map())\n",
    "print(q_learn2.generate_path(10000))"
   ]
  }
 ],
 "metadata": {
  "kernelspec": {
   "display_name": "Python 3",
   "language": "python",
   "name": "python3"
  },
  "language_info": {
   "codemirror_mode": {
    "name": "ipython",
    "version": 3
   },
   "file_extension": ".py",
   "mimetype": "text/x-python",
   "name": "python",
   "nbconvert_exporter": "python",
   "pygments_lexer": "ipython3",
   "version": "3.8.10"
  },
  "orig_nbformat": 4,
  "vscode": {
   "interpreter": {
    "hash": "31f2aee4e71d21fbe5cf8b01ff0e069b9275f58929596ceb00d14d90e3e16cd6"
   }
  }
 },
 "nbformat": 4,
 "nbformat_minor": 2
}
