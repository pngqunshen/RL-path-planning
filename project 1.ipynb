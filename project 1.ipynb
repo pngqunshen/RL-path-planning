{
 "cells": [
  {
   "attachments": {},
   "cell_type": "markdown",
   "metadata": {},
   "source": [
    "# Project 1 Froze Lake Problem\n",
    "\n",
    "Png Qun Shen\n",
    "\n",
    "A0199519J\n",
    "\n",
    "png.qunshen@u.nus.edu"
   ]
  },
  {
   "attachments": {},
   "cell_type": "markdown",
   "metadata": {},
   "source": [
    "## Import statements"
   ]
  },
  {
   "cell_type": "code",
   "execution_count": 1,
   "metadata": {},
   "outputs": [],
   "source": [
    "# import statements\n",
    "import numpy as np\n",
    "import pandas as pd\n",
    "from Monte_Carlo_without_es import Monte_carlo_without_es\n",
    "from Sarsa import Sarsa\n",
    "from Q_learning import Q_learning"
   ]
  },
  {
   "attachments": {},
   "cell_type": "markdown",
   "metadata": {},
   "source": [
    "Create the default environment for the 4x4 Froze Lake problem"
   ]
  },
  {
   "cell_type": "code",
   "execution_count": 2,
   "metadata": {},
   "outputs": [],
   "source": [
    "# four by four obstacle\n",
    "four_by_four_obs = [(1,1), (1,3), (2,3), (3,0)]"
   ]
  },
  {
   "attachments": {},
   "cell_type": "markdown",
   "metadata": {},
   "source": [
    "## Monte Carlo without Exploring Start"
   ]
  },
  {
   "attachments": {},
   "cell_type": "markdown",
   "metadata": {},
   "source": [
    "### Task 1: 4 x 4 Grid"
   ]
  },
  {
   "attachments": {},
   "cell_type": "markdown",
   "metadata": {},
   "source": [
    "Solve the problem once, printing the original map and the solution\n",
    "\n",
    "X - holes\n",
    "\n",
    "G - goal\n",
    "\n",
    "O - path"
   ]
  },
  {
   "cell_type": "code",
   "execution_count": 3,
   "metadata": {},
   "outputs": [
    {
     "name": "stdout",
     "output_type": "stream",
     "text": [
      "Original map:\n",
      "==============\n",
      "|            |\n",
      "|    X     X |\n",
      "|          X |\n",
      "| X        G |\n",
      "==============\n",
      "Number of iteration: 92\n",
      "Solution:\n",
      "==============\n",
      "| O          |\n",
      "| O  X     X |\n",
      "| O  O  O  X |\n",
      "| X     O  G |\n",
      "==============\n"
     ]
    }
   ],
   "source": [
    "mont1 = Monte_carlo_without_es(4, 4, obstacle_pos=four_by_four_obs)\n",
    "print(\"Original map:\")\n",
    "print(mont1.get_map())\n",
    "print(\"Number of iteration: {}\".format(mont1.generate_path(10000)))\n",
    "print(\"Solution:\")\n",
    "print(mont1.get_path_map())"
   ]
  },
  {
   "attachments": {},
   "cell_type": "markdown",
   "metadata": {},
   "source": [
    "To find the optimal parameters (discount rate, epsilon), the parameters are iterated over a few values.\n",
    "\n",
    "For each set of parameters, the problem is solved 30 times, and the number of iterations in each run is recorded"
   ]
  },
  {
   "cell_type": "code",
   "execution_count": 4,
   "metadata": {},
   "outputs": [
    {
     "name": "stdout",
     "output_type": "stream",
     "text": [
      "Standard deviation:\n",
      "            0.6         0.7         0.8         0.9         1.0\n",
      "0.1  366.774113  311.089107  394.635224  413.301624  426.849181\n",
      "0.2  324.240686  283.836737  325.769387  275.942879  396.344244\n",
      "0.3  352.770698  245.111641  215.936987  150.471190  319.948926\n",
      "0.4  383.989473  286.232386   98.752041  108.937133  344.713304\n",
      "0.5  418.473289  370.900526  212.296428  144.236318  289.078182\n",
      "\n",
      "Mean:\n",
      "            0.6         0.7         0.8         0.9         1.0\n",
      "0.1  569.500000  351.633333  378.800000  354.366667  696.100000\n",
      "0.2  300.333333  281.200000  295.200000  222.166667  558.200000\n",
      "0.3  403.966667  248.500000  200.466667  111.566667  335.533333\n",
      "0.4  524.866667  246.766667  133.966667   96.966667  356.733333\n",
      "0.5  543.200000  355.000000  142.600000  115.533333  279.066667\n"
     ]
    }
   ],
   "source": [
    "epsilon_lst = [0.1, 0.2, 0.3, 0.4, 0.5]\n",
    "discount_rate_lst = [0.6, 0.7, 0.8, 0.9, 1.0]\n",
    "mont_std_dev = []\n",
    "mont_mean = []\n",
    "for epsilon in epsilon_lst: # loop through epsilon\n",
    "    std_dev_lst = []\n",
    "    mean_lst = []\n",
    "    for discount_rate in discount_rate_lst: # loop through discount_rate\n",
    "        mont_lst = np.empty((0), int)\n",
    "\n",
    "        # loop 30 times\n",
    "        for i in range(30):\n",
    "            mont = Monte_carlo_without_es(4, 4, epsilon=epsilon, \\\n",
    "                                          discount_rate=discount_rate, \\\n",
    "                                            obstacle_pos=four_by_four_obs)\n",
    "            mont_lst = np.append(mont_lst, np.array([mont.generate_path(1000)]), axis = 0)\n",
    "        std_dev_lst.append(np.std(mont_lst))\n",
    "        mean_lst.append(mont_lst.mean())\n",
    "    mont_mean.append(mean_lst)\n",
    "    mont_std_dev.append(std_dev_lst)\n",
    "print(\"Standard deviation:\")\n",
    "print(pd.DataFrame(mont_std_dev, index=epsilon_lst, columns=discount_rate_lst))\n",
    "print()\n",
    "print(\"Mean:\")\n",
    "print(pd.DataFrame(mont_mean, index=epsilon_lst, columns=discount_rate_lst))"
   ]
  },
  {
   "attachments": {},
   "cell_type": "markdown",
   "metadata": {},
   "source": [
    "### Task 2: 10 x 10 Grid"
   ]
  },
  {
   "attachments": {},
   "cell_type": "markdown",
   "metadata": {},
   "source": [
    "Solve the problem once, printing the original map and the solution\n",
    "\n",
    "X - holes\n",
    "\n",
    "G - goal\n",
    "\n",
    "O - path"
   ]
  },
  {
   "cell_type": "code",
   "execution_count": 5,
   "metadata": {},
   "outputs": [
    {
     "name": "stdout",
     "output_type": "stream",
     "text": [
      "Original map:\n",
      "================================\n",
      "|             X     X  X       |\n",
      "|                X           X |\n",
      "| X  X                         |\n",
      "| X     X                      |\n",
      "|    X           X  X     X    |\n",
      "|                         X    |\n",
      "|                   X          |\n",
      "| X  X     X                   |\n",
      "|    X     X     X     X       |\n",
      "|    X              X     X  G |\n",
      "================================\n",
      "Number of iteration: 99999\n",
      "Solution:\n",
      "================================\n",
      "| O  O  O     X     X  X       |\n",
      "|                X           X |\n",
      "| X  X                         |\n",
      "| X     X                      |\n",
      "|    X           X  X     X    |\n",
      "|                         X    |\n",
      "|                   X          |\n",
      "| X  X     X                   |\n",
      "|    X     X     X     X       |\n",
      "|    X              X     X  G |\n",
      "================================\n"
     ]
    }
   ],
   "source": [
    "mont2 = Monte_carlo_without_es(10, 10, epsilon=0.4, discount_rate=0.9)\n",
    "print(\"Original map:\")\n",
    "print(mont2.get_map())\n",
    "print(\"Number of iteration: {}\".format(mont2.generate_path(100000)))\n",
    "print(\"Solution:\")\n",
    "print(mont2.get_path_map())"
   ]
  },
  {
   "attachments": {},
   "cell_type": "markdown",
   "metadata": {},
   "source": [
    "## Sarsa"
   ]
  },
  {
   "attachments": {},
   "cell_type": "markdown",
   "metadata": {},
   "source": [
    "### Task 1: 4 x 4 Grid"
   ]
  },
  {
   "attachments": {},
   "cell_type": "markdown",
   "metadata": {},
   "source": [
    "Solve the problem once, printing the original map and the solution\n",
    "\n",
    "X - holes\n",
    "\n",
    "G - goal\n",
    "\n",
    "O - path"
   ]
  },
  {
   "cell_type": "code",
   "execution_count": 6,
   "metadata": {},
   "outputs": [
    {
     "name": "stdout",
     "output_type": "stream",
     "text": [
      "Original map:\n",
      "==============\n",
      "|            |\n",
      "|    X     X |\n",
      "|          X |\n",
      "| X        G |\n",
      "==============\n",
      "Number of iteration: 21\n",
      "Solution:\n",
      "==============\n",
      "| O          |\n",
      "| O  X     X |\n",
      "| O  O  O  X |\n",
      "| X     O  G |\n",
      "==============\n"
     ]
    }
   ],
   "source": [
    "sarsa1 = Sarsa(4, 4, obstacle_pos=four_by_four_obs)\n",
    "print(\"Original map:\")\n",
    "print(sarsa1.get_map())\n",
    "print(\"Number of iteration: {}\".format(sarsa1.generate_path(1000)))\n",
    "print(\"Solution:\")\n",
    "print(sarsa1.get_path_map())"
   ]
  },
  {
   "attachments": {},
   "cell_type": "markdown",
   "metadata": {},
   "source": [
    "Solve the problem 30 times, and store the number of iterations in each run, printing the statistics"
   ]
  },
  {
   "cell_type": "code",
   "execution_count": 7,
   "metadata": {},
   "outputs": [
    {
     "name": "stdout",
     "output_type": "stream",
     "text": [
      "Standard deviation:\n",
      "           0.6        0.7        0.8        0.9        1.0\n",
      "0.1   6.635008   5.136038   8.015333   7.298782   6.821209\n",
      "0.2   8.923378   8.154140   6.988960   7.141117   7.910682\n",
      "0.3   8.062602   7.404278   7.495258   6.902174   6.132337\n",
      "0.4   7.651071  11.401559   7.472988   6.641954   7.854510\n",
      "0.5  12.088792   8.753476  11.670285  12.237465  10.064238\n",
      "\n",
      "Mean:\n",
      "           0.6        0.7        0.8        0.9        1.0\n",
      "0.1  18.100000  16.433333  18.566667  17.166667  18.266667\n",
      "0.2  19.200000  18.100000  18.433333  18.933333  18.566667\n",
      "0.3  24.833333  21.100000  21.233333  19.400000  19.833333\n",
      "0.4  23.833333  25.066667  23.766667  22.866667  25.800000\n",
      "0.5  29.833333  26.100000  30.933333  28.333333  27.333333\n"
     ]
    }
   ],
   "source": [
    "epsilon_lst = [0.1, 0.2, 0.3, 0.4, 0.5]\n",
    "discount_rate_lst = [0.6, 0.7, 0.8, 0.9, 1.0]\n",
    "sarsa_std_dev = []\n",
    "sarsa_mean = []\n",
    "for epsilon in epsilon_lst: # loop through epsilon\n",
    "    std_dev_lst = []\n",
    "    mean_lst = []\n",
    "    for discount_rate in discount_rate_lst: # loop through discount_rate\n",
    "        sarsa_lst = np.empty((0), int)\n",
    "\n",
    "        # loop 30 times\n",
    "        for i in range(30):\n",
    "            sarsa = Sarsa(4, 4, epsilon=epsilon, \\\n",
    "                          discount_rate=discount_rate, \\\n",
    "                            obstacle_pos=four_by_four_obs)\n",
    "            sarsa_lst = np.append(sarsa_lst, np.array([sarsa.generate_path(1000)]), axis = 0)\n",
    "        std_dev_lst.append(np.std(sarsa_lst))\n",
    "        mean_lst.append(sarsa_lst.mean())\n",
    "    sarsa_mean.append(mean_lst)\n",
    "    sarsa_std_dev.append(std_dev_lst)\n",
    "print(\"Standard deviation:\")\n",
    "print(pd.DataFrame(sarsa_std_dev, index=epsilon_lst, columns=discount_rate_lst))\n",
    "print()\n",
    "print(\"Mean:\")\n",
    "print(pd.DataFrame(sarsa_mean, index=epsilon_lst, columns=discount_rate_lst))"
   ]
  },
  {
   "attachments": {},
   "cell_type": "markdown",
   "metadata": {},
   "source": [
    "### Task 2: 10 x 10 Grid"
   ]
  },
  {
   "attachments": {},
   "cell_type": "markdown",
   "metadata": {},
   "source": [
    "Solve the problem once, printing the original map and the solution\n",
    "\n",
    "X - holes\n",
    "\n",
    "G - goal\n",
    "\n",
    "O - path"
   ]
  },
  {
   "cell_type": "code",
   "execution_count": 9,
   "metadata": {},
   "outputs": [
    {
     "name": "stdout",
     "output_type": "stream",
     "text": [
      "Original map:\n",
      "================================\n",
      "|                         X    |\n",
      "|          X  X                |\n",
      "| X     X     X     X     X    |\n",
      "|                              |\n",
      "|                X  X        X |\n",
      "|       X  X  X  X        X  X |\n",
      "|                              |\n",
      "| X  X           X  X          |\n",
      "|                      X       |\n",
      "|    X  X                    G |\n",
      "================================\n",
      "Number of iteration: 99999\n",
      "Solution:\n",
      "================================\n",
      "| O  O  O                 X    |\n",
      "|          X  X                |\n",
      "| X     X     X     X     X    |\n",
      "|                              |\n",
      "|                X  X        X |\n",
      "|       X  X  X  X        X  X |\n",
      "|                              |\n",
      "| X  X           X  X          |\n",
      "|                      X       |\n",
      "|    X  X                    G |\n",
      "================================\n"
     ]
    }
   ],
   "source": [
    "sarsa2 = Sarsa(10, 10, epsilon=0.1, discount_rate=0.7)\n",
    "print(\"Original map:\")\n",
    "print(sarsa2.get_map())\n",
    "print(\"Number of iteration: {}\".format(sarsa2.generate_path(100000)))\n",
    "print(\"Solution:\")\n",
    "print(sarsa2.get_path_map())"
   ]
  },
  {
   "attachments": {},
   "cell_type": "markdown",
   "metadata": {},
   "source": [
    "## Q-Learning"
   ]
  },
  {
   "attachments": {},
   "cell_type": "markdown",
   "metadata": {},
   "source": [
    "### Task 1: 4 x 4 Grid"
   ]
  },
  {
   "attachments": {},
   "cell_type": "markdown",
   "metadata": {},
   "source": [
    "Solve the problem once, printing the original map and the solution\n",
    "\n",
    "X - holes\n",
    "\n",
    "G - goal\n",
    "\n",
    "O - path"
   ]
  },
  {
   "cell_type": "code",
   "execution_count": 10,
   "metadata": {},
   "outputs": [
    {
     "name": "stdout",
     "output_type": "stream",
     "text": [
      "Original map:\n",
      "==============\n",
      "|            |\n",
      "|    X     X |\n",
      "|          X |\n",
      "| X        G |\n",
      "==============\n",
      "Number of iteration: 999\n",
      "Solution:\n",
      "==============\n",
      "| O  O  O  O |\n",
      "|    X     X |\n",
      "|          X |\n",
      "| X        G |\n",
      "==============\n"
     ]
    }
   ],
   "source": [
    "q_learn1 = Q_learning(4, 4, obstacle_pos=four_by_four_obs)\n",
    "print(\"Original map:\")\n",
    "print(q_learn1.get_map())\n",
    "print(\"Number of iteration: {}\".format(q_learn1.generate_path(1000)))\n",
    "print(\"Solution:\")\n",
    "print(q_learn1.get_path_map())"
   ]
  },
  {
   "attachments": {},
   "cell_type": "markdown",
   "metadata": {},
   "source": [
    "Solve the problem 30 times, and store the number of iterations in each run, printing the statistics"
   ]
  },
  {
   "cell_type": "code",
   "execution_count": 11,
   "metadata": {},
   "outputs": [
    {
     "name": "stdout",
     "output_type": "stream",
     "text": [
      "Standard deviation:\n",
      "            0.6         0.7         0.8         0.9         1.0\n",
      "0.1    0.000000  167.731204  155.143532    0.000000    0.000000\n",
      "0.2  201.886957  287.448191  254.890131  305.234673  273.893134\n",
      "0.3  328.674307  314.550234  329.057045  314.186668  295.465501\n",
      "0.4  314.952159  347.198957  379.708053  342.738767  322.814849\n",
      "0.5  332.908890  322.713855  257.130276  311.781626  358.966083\n",
      "\n",
      "Mean:\n",
      "            0.6         0.7         0.8         0.9         1.0\n",
      "0.1  999.000000  955.100000  959.533333  999.000000  999.000000\n",
      "0.2  900.300000  865.933333  850.233333  836.166667  858.466667\n",
      "0.3  785.000000  762.500000  772.833333  727.066667  803.066667\n",
      "0.4  545.933333  563.866667  561.833333  548.933333  574.800000\n",
      "0.5  447.733333  423.033333  376.433333  420.466667  489.133333\n"
     ]
    }
   ],
   "source": [
    "epsilon_lst = [0.1, 0.2, 0.3, 0.4, 0.5]\n",
    "discount_rate_lst = [0.6, 0.7, 0.8, 0.9, 1.0]\n",
    "q_learn_std_dev = []\n",
    "q_learn_mean = []\n",
    "for epsilon in epsilon_lst: # loop through epsilon\n",
    "    std_dev_lst = []\n",
    "    mean_lst = []\n",
    "    for discount_rate in discount_rate_lst: # loop through discount_rate\n",
    "        q_learn_lst = np.empty((0), int)\n",
    "\n",
    "        # loop 30 times\n",
    "        for i in range(30):\n",
    "            q_learn = Q_learning(4, 4, epsilon=epsilon, \\\n",
    "                                 discount_rate=discount_rate, \\\n",
    "                                    obstacle_pos=four_by_four_obs)\n",
    "            q_learn_lst = np.append(q_learn_lst, np.array([q_learn.generate_path(1000)]), axis = 0)\n",
    "        std_dev_lst.append(np.std(q_learn_lst))\n",
    "        mean_lst.append(q_learn_lst.mean())\n",
    "    q_learn_mean.append(mean_lst)\n",
    "    q_learn_std_dev.append(std_dev_lst)\n",
    "print(\"Standard deviation:\")\n",
    "print(pd.DataFrame(q_learn_std_dev, index=epsilon_lst, columns=discount_rate_lst))\n",
    "print()\n",
    "print(\"Mean:\")\n",
    "print(pd.DataFrame(q_learn_mean, index=epsilon_lst, columns=discount_rate_lst))"
   ]
  },
  {
   "attachments": {},
   "cell_type": "markdown",
   "metadata": {},
   "source": [
    "### Task 2: 10 x 10 Grid"
   ]
  },
  {
   "attachments": {},
   "cell_type": "markdown",
   "metadata": {},
   "source": [
    "Solve the problem once, printing the original map and the solution\n",
    "\n",
    "X - holes\n",
    "\n",
    "G - goal\n",
    "\n",
    "O - path"
   ]
  },
  {
   "cell_type": "code",
   "execution_count": 12,
   "metadata": {},
   "outputs": [
    {
     "name": "stdout",
     "output_type": "stream",
     "text": [
      "Original map:\n",
      "================================\n",
      "|                   X          |\n",
      "|       X     X     X          |\n",
      "|                X             |\n",
      "|    X        X        X     X |\n",
      "| X     X              X       |\n",
      "| X           X     X        X |\n",
      "|          X        X          |\n",
      "|                X  X          |\n",
      "| X           X              X |\n",
      "| X           X              G |\n",
      "================================\n",
      "Number of iteration: 999\n",
      "Solution:\n",
      "================================\n",
      "| O  O  O  O  O  O  X          |\n",
      "|       X     X  O  X          |\n",
      "|                X             |\n",
      "|    X        X        X     X |\n",
      "| X     X              X       |\n",
      "| X           X     X        X |\n",
      "|          X        X          |\n",
      "|                X  X          |\n",
      "| X           X              X |\n",
      "| X           X              G |\n",
      "================================\n"
     ]
    }
   ],
   "source": [
    "q_learn2 = Q_learning(10, 10, epsilon=0.5, discount_rate=0.8)\n",
    "print(\"Original map:\")\n",
    "print(q_learn2.get_map())\n",
    "print(\"Number of iteration: {}\".format(q_learn2.generate_path(1000)))\n",
    "print(\"Solution:\")\n",
    "print(q_learn2.get_path_map())"
   ]
  }
 ],
 "metadata": {
  "kernelspec": {
   "display_name": "Python 3",
   "language": "python",
   "name": "python3"
  },
  "language_info": {
   "codemirror_mode": {
    "name": "ipython",
    "version": 3
   },
   "file_extension": ".py",
   "mimetype": "text/x-python",
   "name": "python",
   "nbconvert_exporter": "python",
   "pygments_lexer": "ipython3",
   "version": "3.6.10"
  },
  "orig_nbformat": 4,
  "vscode": {
   "interpreter": {
    "hash": "31f2aee4e71d21fbe5cf8b01ff0e069b9275f58929596ceb00d14d90e3e16cd6"
   }
  }
 },
 "nbformat": 4,
 "nbformat_minor": 2
}
